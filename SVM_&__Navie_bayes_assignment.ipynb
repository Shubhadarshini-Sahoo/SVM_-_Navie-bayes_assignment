{
  "nbformat": 4,
  "nbformat_minor": 0,
  "metadata": {
    "colab": {
      "provenance": []
    },
    "kernelspec": {
      "name": "python3",
      "display_name": "Python 3"
    },
    "language_info": {
      "name": "python"
    }
  },
  "cells": [
    {
      "cell_type": "markdown",
      "source": [
        "**Supervised Classification: Decision**\n",
        "**Trees, SVM, and Naive Bayes|**\n",
        "**Assignment**\n"
      ],
      "metadata": {
        "id": "vqZuyRJnkew5"
      }
    },
    {
      "cell_type": "markdown",
      "source": [
        "**Question 1 : What is Information Gain, and how is it used in Decision Trees?**"
      ],
      "metadata": {
        "id": "ZgIKstOGFbrP"
      }
    },
    {
      "cell_type": "markdown",
      "source": [
        "Information Gain (IG) is a metric used in decision tree algorithms (like ID3, C4.5, and CART) to measure how well a given feature separates the training examples according to their target classes. It is based on the concept of entropy from information theory, which measures the amount of uncertainty or impurity in a dataset.\n",
        "\n",
        "a.* Entropy*:\n",
        "\n",
        "Entropy quantifies the impurity or randomness in the data. It is calculated as:\n",
        "\n",
        "\n",
        "![Screenshot 2025-10-25 225624.png](data:image/png;base64,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)"
      ],
      "metadata": {
        "id": "HtJDgR91aU3S"
      }
    },
    {
      "cell_type": "markdown",
      "source": [
        "Where:\n",
        "\n",
        "𝑆= current dataset\n",
        "\n",
        "𝑐= number of classes\n",
        "\n",
        "𝑝\n",
        "𝑖= proportion of examples belonging to class\n",
        "\n",
        "\n",
        "A higher entropy means the data is more impure (mixed), while lower entropy means it is purer (more homogeneous).\n",
        "\n",
        "*b. Information Gain:*\n",
        "\n",
        "Information Gain measures the reduction in entropy achieved by splitting the dataset based on a particular attribute.\n",
        "\n",
        "![Screenshot 2025-10-25 230036.png](data:image/png;base64,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)"
      ],
      "metadata": {
        "id": "s_wUS8r1atZo"
      }
    },
    {
      "cell_type": "markdown",
      "source": [
        "Where:\n",
        "\n",
        "𝐴= attribute used for splitting\n",
        "\n",
        "𝑆\n",
        "𝑣= subset of\n",
        "\n",
        "S=for which attribute\n",
        "𝐴 has value\n",
        "𝑣\n",
        "\n",
        "\n",
        "∣\n",
        "𝑆\n",
        "𝑣\n",
        "∣\n",
        "/\n",
        "∣\n",
        "𝑆\n",
        "∣ = proportion of samples in subset\n",
        "𝑆\n",
        "𝑣"
      ],
      "metadata": {
        "id": "Ivlh4QzkbFhT"
      }
    },
    {
      "cell_type": "markdown",
      "source": [
        "*c. Use in Decision Trees:*\n",
        "\n",
        "During the construction of a decision tree, the algorithm calculates the Information Gain for each available attribute.\n",
        "\n",
        "The attribute that gives the highest Information Gain is selected as the splitting attribute at that node.\n",
        "\n",
        "This process is repeated recursively for each branch until the data is perfectly classified or another stopping criterion is met (like maximum depth or minimum samples per node).\n",
        "\n",
        "*d. Example:*\n",
        "\n",
        "Suppose we want to predict whether a person will play tennis based on attributes like “Outlook,” “Temperature,” and “Humidity.”\n",
        "If splitting on “Outlook” reduces the entropy the most, then “Outlook” will be chosen as the root node because it provides the maximum Information Gain."
      ],
      "metadata": {
        "id": "phEzgC29bkGv"
      }
    },
    {
      "cell_type": "markdown",
      "source": [
        "**Question 2: What is the difference between Gini Impurity and Entropy?**\n",
        "\n",
        "**Hint: Directly compares the two main impurity measures, highlighting strengths,**\n",
        "**weaknesses, and appropriate use cases.**\n"
      ],
      "metadata": {
        "id": "DyTEKAP1bszI"
      }
    },
    {
      "cell_type": "markdown",
      "source": [
        "Gini Impurity and Entropy are two common measures used to evaluate the impurity or disorder of a dataset in decision tree algorithms. Both determine how mixed the classes are within a node, but they differ slightly in their calculation and interpretation."
      ],
      "metadata": {
        "id": "NsU_VHO7b6BB"
      }
    },
    {
      "cell_type": "markdown",
      "source": [
        "| **Aspect**      | **Gini Impurity**                                                              | **Entropy**                                                      |\n",
        "| --------------- | ------------------------------------------------------------------------------ | ---------------------------------------------------------------- |\n",
        "| **Definition**  | Measures the probability of incorrectly classifying a randomly chosen element. | Measures the amount of uncertainty or randomness in the data.    |\n",
        "| **Formula**     | ( G = 1 - \\sum p_i^2 )                                                         | ( H = -\\sum p_i \\log_2(p_i) )                                    |\n",
        "| **Value Range** | 0 (pure) to 0.5 (most impure for binary classes)                               | 0 (pure) to 1 (most impure for binary classes)                   |\n",
        "| **Computation** | Simple and faster (no logarithms involved).                                    | Slightly slower due to logarithmic calculations.                 |\n",
        "| **Sensitivity** | Less sensitive to small class probability changes.                             | More sensitive to class imbalance and small probability changes. |\n",
        "| **Typical Use** | Used in **CART (Classification and Regression Trees)**.                        | Used in **ID3** and **C4.5** algorithms.                         |\n"
      ],
      "metadata": {
        "id": "jjZxjxEncwtz"
      }
    },
    {
      "cell_type": "markdown",
      "source": [
        "**Question 3:What is Pre-Pruning in Decision Trees?**\n"
      ],
      "metadata": {
        "id": "bBEr2tAVczkF"
      }
    },
    {
      "cell_type": "markdown",
      "source": [
        "Pre-pruning, also known as early stopping, is a technique used to prevent a decision tree from overfitting the training data by stopping the tree growth early, before it becomes too complex.\n",
        "\n",
        "Instead of allowing the tree to grow fully and then trimming it (as in post-pruning), pre-pruning sets conditions or limits that stop further splitting of nodes during the tree-building process.\n",
        "\n",
        "***Common Pre-Pruning Criteria:***\n",
        "\n",
        "Minimum number of samples required to split a node.\n",
        "\n",
        "Maximum depth of the tree.\n",
        "\n",
        "Minimum information gain or Gini decrease required for a split.\n",
        "\n",
        "Maximum number of leaf nodes.\n",
        "\n",
        "Advantages:\n",
        "\n",
        "***Reduces overfitting.***\n",
        "\n",
        "Saves computation time and memory.\n",
        "\n",
        "Produces simpler, more interpretable models.\n",
        "\n",
        "***Disadvantages:***\n",
        "\n",
        "May stop tree growth too early, leading to underfitting.\n",
        "\n",
        "Sometimes misses useful splits that could improve accuracy later."
      ],
      "metadata": {
        "id": "MqNXOfvqc7KC"
      }
    },
    {
      "cell_type": "markdown",
      "source": [
        "**Question 4:Write a Python program to train a Decision Tree Classifier using Gini**\n",
        "**Impurity as the criterion and print the feature importances (practical).**\n",
        "\n",
        "Hint: Use criterion='gini' in DecisionTreeClassifier and access .feature_importances_.\n",
        "(Include your Python code and output in the code box below.)\n"
      ],
      "metadata": {
        "id": "_GmEDCu8dQux"
      }
    },
    {
      "cell_type": "code",
      "source": [
        "# Import required libraries\n",
        "from sklearn.datasets import load_iris\n",
        "from sklearn.tree import DecisionTreeClassifier\n",
        "from sklearn.model_selection import train_test_split\n",
        "\n",
        "# Load the Iris dataset\n",
        "iris = load_iris()\n",
        "X = iris.data\n",
        "y = iris.target\n",
        "\n",
        "# Split the dataset into training and testing sets\n",
        "X_train, X_test, y_train, y_test = train_test_split(X, y, test_size=0.3, random_state=42)\n",
        "\n",
        "# Create a Decision Tree Classifier using Gini Impurity\n",
        "clf = DecisionTreeClassifier(criterion='gini', random_state=42)\n",
        "\n",
        "# Train the model\n",
        "clf.fit(X_train, y_train)\n",
        "\n",
        "# Print the feature importances\n",
        "print(\"Feature Importances:\")\n",
        "for feature, importance in zip(iris.feature_names, clf.feature_importances_):\n",
        "    print(f\"{feature}: {importance:.4f}\")\n",
        "\n",
        "# Evaluate the model\n",
        "accuracy = clf.score(X_test, y_test)\n",
        "print(f\"\\nModel Accuracy: {accuracy:.2f}\")\n"
      ],
      "metadata": {
        "colab": {
          "base_uri": "https://localhost:8080/"
        },
        "id": "UHxxanSHdsF2",
        "outputId": "684340bb-20b1-4ae5-d84e-42e8a4569218"
      },
      "execution_count": null,
      "outputs": [
        {
          "output_type": "stream",
          "name": "stdout",
          "text": [
            "Feature Importances:\n",
            "sepal length (cm): 0.0000\n",
            "sepal width (cm): 0.0191\n",
            "petal length (cm): 0.8933\n",
            "petal width (cm): 0.0876\n",
            "\n",
            "Model Accuracy: 1.00\n"
          ]
        }
      ]
    },
    {
      "cell_type": "markdown",
      "source": [
        "**Question 5: What is a Support Vector Machine (SVM)?**\n"
      ],
      "metadata": {
        "id": "fynf6n4Ndk_0"
      }
    },
    {
      "cell_type": "markdown",
      "source": [
        "A Support Vector Machine (SVM) is a supervised machine learning algorithm used for classification and regression tasks. It works by finding the best boundary (hyperplane) that separates data points of different classes with the maximum margin.\n",
        "\n",
        "In simple terms, SVM tries to draw a line (in 2D) or a plane (in higher dimensions) that clearly divides different classes while staying as far away as possible from the nearest data points of each class. These closest points are called support vectors, as they “support” or define the boundary.\n",
        "\n",
        "***Hyperplane***: The decision boundary that separates the classes.\n",
        "\n",
        "***Support Vectors:*** Data points that are closest to the hyperplane and influence its position.\n",
        "\n",
        "***Margin:*** The distance between the hyperplane and the nearest data points of each class — SVM aims to maximize this margin.\n",
        "\n",
        "***Kernel Trick:*** Allows SVM to perform classification on non-linear data by mapping it into higher-dimensional space (e.g., linear, polynomial, RBF kernels).\n",
        "\n",
        "**Advantages:**\n",
        "\n",
        "Effective in high-dimensional spaces.\n",
        "\n",
        "Works well with clear margin separation.\n",
        "\n",
        "Can handle both linear and non-linear classification using kernels.\n",
        "\n",
        "**Disadvantages:**\n",
        "\n",
        "Computationally expensive for large datasets.\n",
        "\n",
        "Choosing the right kernel and parameters can be challenging."
      ],
      "metadata": {
        "id": "YFtKCqwkhE_h"
      }
    },
    {
      "cell_type": "markdown",
      "source": [
        "**Question 6: What is the Kernel Trick in SVM?**"
      ],
      "metadata": {
        "id": "SMG0WNJIhmWv"
      }
    },
    {
      "cell_type": "markdown",
      "source": [
        "The Kernel Trick is a technique used in Support Vector Machines (SVM) to handle non-linearly separable data. It allows SVM to compute in a higher-dimensional feature space without explicitly transforming the data into that space.\n",
        "\n",
        "In many real-world problems, data cannot be separated by a straight line (or hyperplane).\n",
        "\n",
        "SVM can map the original input features into a higher-dimensional space where a linear separation is possible.\n",
        "\n",
        "The kernel function calculates the inner product in this higher-dimensional space implicitly, saving computation time."
      ],
      "metadata": {
        "id": "DtH_4MGhhq5q"
      }
    },
    {
      "cell_type": "markdown",
      "source": [
        "| **Kernel**                      | **Description**                                                                |\n",
        "| ------------------------------- | ------------------------------------------------------------------------------ |\n",
        "| **Linear**                      | No transformation, works for linearly separable data.                          |\n",
        "| **Polynomial**                  | Maps data into polynomial feature space (e.g., quadratic or cubic).            |\n",
        "| **RBF (Radial Basis Function)** | Maps data into infinite-dimensional space, very flexible for complex patterns. |\n",
        "| **Sigmoid**                     | Similar to a neural network activation function, less commonly used.           |\n"
      ],
      "metadata": {
        "id": "qDwtcE-Ch3wX"
      }
    },
    {
      "cell_type": "markdown",
      "source": [
        "**Advantages:**\n",
        "\n",
        "Enables SVM to solve non-linear classification problems efficiently.\n",
        "\n",
        "Avoids explicitly computing high-dimensional transformations."
      ],
      "metadata": {
        "id": "meeNB1ZIh48o"
      }
    },
    {
      "cell_type": "markdown",
      "source": [
        "**Question 7: Write a Python program to train two SVM classifiers with Linear and** **RBF kernels on the Wine dataset, then compare their accuracies.**\n"
      ],
      "metadata": {
        "id": "B6e8tlm1h9uz"
      }
    },
    {
      "cell_type": "code",
      "source": [
        "# Import necessary libraries\n",
        "from sklearn.datasets import load_wine\n",
        "from sklearn.model_selection import train_test_split\n",
        "from sklearn.svm import SVC\n",
        "from sklearn.metrics import accuracy_score\n",
        "\n",
        "# Load the Wine dataset\n",
        "wine = load_wine()\n",
        "X = wine.data\n",
        "y = wine.target\n",
        "\n",
        "# Split the dataset into training and testing sets\n",
        "X_train, X_test, y_train, y_test = train_test_split(X, y, test_size=0.3, random_state=42)\n",
        "\n",
        "# Train SVM with Linear kernel\n",
        "svm_linear = SVC(kernel='linear', random_state=42)\n",
        "svm_linear.fit(X_train, y_train)\n",
        "y_pred_linear = svm_linear.predict(X_test)\n",
        "accuracy_linear = accuracy_score(y_test, y_pred_linear)\n",
        "\n",
        "# Train SVM with RBF kernel\n",
        "svm_rbf = SVC(kernel='rbf', random_state=42)\n",
        "svm_rbf.fit(X_train, y_train)\n",
        "y_pred_rbf = svm_rbf.predict(X_test)\n",
        "accuracy_rbf = accuracy_score(y_test, y_pred_rbf)\n",
        "\n",
        "# Print the accuracies\n",
        "print(f\"Accuracy of SVM with Linear Kernel: {accuracy_linear:.2f}\")\n",
        "print(f\"Accuracy of SVM with RBF Kernel: {accuracy_rbf:.2f}\")\n"
      ],
      "metadata": {
        "colab": {
          "base_uri": "https://localhost:8080/"
        },
        "id": "nyl0lwxMiLTG",
        "outputId": "0fb000f6-feb1-4d62-dcad-6534cff33e8b"
      },
      "execution_count": null,
      "outputs": [
        {
          "output_type": "stream",
          "name": "stdout",
          "text": [
            "Accuracy of SVM with Linear Kernel: 0.98\n",
            "Accuracy of SVM with RBF Kernel: 0.76\n"
          ]
        }
      ]
    },
    {
      "cell_type": "markdown",
      "source": [
        "**Question 8: What is the Naïve Bayes classifier, and why is it called \"Naïve\"?**"
      ],
      "metadata": {
        "id": "IM_ByS4YiGwb"
      }
    },
    {
      "cell_type": "markdown",
      "source": [
        "The Naïve Bayes classifier is a probabilistic machine learning algorithm used for classification tasks. It is based on Bayes’ Theorem, which calculates the probability of a class given certain features.\n",
        "\n",
        "Bayes’ Theorem:\n",
        "\n",
        "![Screenshot 2025-10-25 233314.png](data:image/png;base64,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)"
      ],
      "metadata": {
        "id": "16grrmDXiWEi"
      }
    },
    {
      "cell_type": "markdown",
      "source": [
        "Where:\n",
        "\n",
        "\n",
        "P(C∣X) = Probability of class\n",
        "𝐶\n",
        "given features\n",
        "𝑋\n",
        "\n",
        "P(X∣C) = Probability of features\n",
        "𝑋\n",
        " given class\n",
        "𝐶\n",
        "\n",
        "P(C) = Prior probability of class\n",
        "𝐶\n",
        "\n",
        "\n",
        "P(X) = Probability of features\n",
        "𝑋\n",
        "\n",
        "***Why is it called \"Naïve\"?***\n",
        "\n",
        "The classifier is called “naïve” because it assumes that all features are independent of each other, even though in real-world data, features are often correlated. This simplification makes computations much easier and faster, but it is a strong and often unrealistic assumption.\n",
        "\n",
        "**Advantages:**\n",
        "\n",
        "Simple and easy to implement.\n",
        "\n",
        "Works well with large datasets.\n",
        "\n",
        "Effective for text classification (spam detection, sentiment analysis).\n",
        "\n",
        "**Disadvantages:**\n",
        "\n",
        "Assumes feature independence, which may not hold in practice.\n",
        "\n",
        "Performance can degrade if features are strongly correlated."
      ],
      "metadata": {
        "id": "qVndg763ijrk"
      }
    },
    {
      "cell_type": "markdown",
      "source": [
        "**Question 9: Explain the differences between Gaussian Naïve Bayes, Multinomial Naïve**\n",
        "**Bayes, and Bernoulli Naïve Bayes**\n"
      ],
      "metadata": {
        "id": "J38qi_AojegR"
      }
    },
    {
      "cell_type": "markdown",
      "source": [
        "| **Variant**                 | **Data Type / Feature Type** | **Description**                                                                                                                                                | **Use Cases**                                                                        |\n",
        "| --------------------------- | ---------------------------- | -------------------------------------------------------------------------------------------------------------------------------------------------------------- | ------------------------------------------------------------------------------------ |\n",
        "| **Gaussian Naïve Bayes**    | Continuous numeric data      | Assumes features follow a **normal (Gaussian) distribution**. The likelihood of the features is computed using the probability density function of a Gaussian. | Predicting numeric measurements, e.g., iris dataset, sensor data.                    |\n",
        "| **Multinomial Naïve Bayes** | Discrete count data          | Assumes features represent **counts or frequencies** and models them using the multinomial distribution.                                                       | Text classification, document classification, spam detection (word counts).          |\n",
        "| **Bernoulli Naïve Bayes**   | Binary / Boolean data        | Assumes features are **binary** (0 or 1, yes/no). Models whether a feature is present or absent.                                                               | Text classification using **presence/absence of words**, e.g., email spam detection. |\n"
      ],
      "metadata": {
        "id": "k9D0BpH2jrRn"
      }
    },
    {
      "cell_type": "markdown",
      "source": [
        "***Key Differences:***\n",
        "\n",
        "**Distribution Assumption:**\n",
        "\n",
        "-Gaussian → continuous data, normal distribution.\n",
        "\n",
        "-Multinomial → count/frequency data.\n",
        "\n",
        "-Bernoulli → binary data.\n",
        "\n",
        "**Feature Type:**\n",
        "\n",
        "-Gaussian → real-valued features.\n",
        "\n",
        "-Multinomial → integer counts.\n",
        "\n",
        "-Bernoulli → binary features.\n",
        "\n",
        "**Use Case:**\n",
        "\n",
        "Gaussian → numeric datasets.\n",
        "\n",
        "Multinomial → word counts or categorical counts.\n",
        "\n",
        "Bernoulli → binary indicators (presence/absence)."
      ],
      "metadata": {
        "id": "PFA1xq7SjsoO"
      }
    },
    {
      "cell_type": "markdown",
      "source": [
        "**Question 10: Breast Cancer Dataset**\n",
        "**Write a Python program to train a Gaussian Naïve Bayes classifier on the Breast** **Cancer dataset and evaluate accuracy.**\n",
        "Hint:Use GaussianNB() from sklearn.naive_bayes and the Breast Cancer dataset from\n",
        "sklearn.datasets.\n",
        "(Include your Python code and output in the code box below.)"
      ],
      "metadata": {
        "id": "1kAOhQ3lkAwV"
      }
    },
    {
      "cell_type": "code",
      "source": [
        "# Import required libraries\n",
        "from sklearn.datasets import load_breast_cancer\n",
        "from sklearn.model_selection import train_test_split\n",
        "from sklearn.naive_bayes import GaussianNB\n",
        "from sklearn.metrics import accuracy_score\n",
        "\n",
        "# Load the Breast Cancer dataset\n",
        "data = load_breast_cancer()\n",
        "X = data.data\n",
        "y = data.target\n",
        "\n",
        "# Split the dataset into training and testing sets\n",
        "X_train, X_test, y_train, y_test = train_test_split(X, y, test_size=0.3, random_state=42)\n",
        "\n",
        "# Create a Gaussian Naive Bayes classifier\n",
        "gnb = GaussianNB()\n",
        "\n",
        "# Train the model\n",
        "gnb.fit(X_train, y_train)\n",
        "\n",
        "# Make predictions on the test set\n",
        "y_pred = gnb.predict(X_test)\n",
        "\n",
        "# Evaluate the accuracy\n",
        "accuracy = accuracy_score(y_test, y_pred)\n",
        "print(f\"Accuracy of Gaussian Naive Bayes: {accuracy:.2f}\")\n"
      ],
      "metadata": {
        "colab": {
          "base_uri": "https://localhost:8080/"
        },
        "id": "0O8eE9BBkN1j",
        "outputId": "d037d937-2e2e-44fe-dfa4-95d00077b940"
      },
      "execution_count": null,
      "outputs": [
        {
          "output_type": "stream",
          "name": "stdout",
          "text": [
            "Accuracy of Gaussian Naive Bayes: 0.94\n"
          ]
        }
      ]
    }
  ]
}